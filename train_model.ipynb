{
 "cells": [
  {
   "cell_type": "code",
   "execution_count": 6,
   "id": "85ebd725",
   "metadata": {},
   "outputs": [
    {
     "name": "stdout",
     "output_type": "stream",
     "text": [
      "✅ Models and encoders saved successfully.\n"
     ]
    }
   ],
   "source": [
    "import pandas as pd\n",
    "from sklearn.ensemble import RandomForestRegressor\n",
    "from sklearn.preprocessing import LabelEncoder\n",
    "import joblib\n",
    "\n",
    "# Load the Excel file\n",
    "df = pd.read_excel('professional_sales_dataset.xlsx')\n",
    "\n",
    "# Drop rows with missing values in required columns\n",
    "df.dropna(subset=['State', 'District', 'Category', 'Quantity Sold', \n",
    "                  'Unit Price (₹)', 'Profit Margin', 'Profit (₹)'], inplace=True)\n",
    "\n",
    "# Label Encoding for categorical variables\n",
    "le_state = LabelEncoder()\n",
    "le_district = LabelEncoder()\n",
    "le_category = LabelEncoder()\n",
    "\n",
    "df['State_enc'] = le_state.fit_transform(df['State'])\n",
    "df['District_enc'] = le_district.fit_transform(df['District'])\n",
    "df['Category_enc'] = le_category.fit_transform(df['Category'])\n",
    "\n",
    "# Features\n",
    "X = df[['State_enc', 'District_enc', 'Category_enc']]\n",
    "\n",
    "# Targets\n",
    "y_quantity = df['Quantity Sold']\n",
    "y_unit_price = df['Unit Price (₹)']\n",
    "y_profit_margin = df['Profit Margin']\n",
    "y_profit = df['Profit (₹)']\n",
    "\n",
    "# Train separate models\n",
    "model_quantity = RandomForestRegressor()\n",
    "model_price = RandomForestRegressor()\n",
    "model_margin = RandomForestRegressor()\n",
    "model_profit = RandomForestRegressor()\n",
    "\n",
    "model_quantity.fit(X, y_quantity)\n",
    "model_price.fit(X, y_unit_price)\n",
    "model_margin.fit(X, y_profit_margin)\n",
    "model_profit.fit(X, y_profit)\n",
    "\n",
    "# Save models\n",
    "joblib.dump(model_quantity, 'model_quantity.pkl')\n",
    "joblib.dump(model_price, 'model_price.pkl')\n",
    "joblib.dump(model_margin, 'model_margin.pkl')\n",
    "joblib.dump(model_profit, 'model_profit.pkl')\n",
    "\n",
    "# Save label encoders\n",
    "encoders = {\n",
    "    'State': le_state,\n",
    "    'District': le_district,\n",
    "    'Category': le_category\n",
    "}\n",
    "joblib.dump(encoders, 'label_encoders.pkl')\n",
    "\n",
    "print(\"✅ Models and encoders saved successfully.\")\n"
   ]
  },
  {
   "cell_type": "code",
   "execution_count": 2,
   "id": "abb5cd55",
   "metadata": {},
   "outputs": [
    {
     "name": "stdout",
     "output_type": "stream",
     "text": [
      "Requirement already satisfied: pandas in c:\\new folder\\python311\\lib\\site-packages (1.5.3)\n",
      "Collecting scikit-learn\n",
      "  Using cached scikit_learn-1.6.1-cp311-cp311-win_amd64.whl.metadata (15 kB)\n",
      "Requirement already satisfied: joblib in c:\\new folder\\python311\\lib\\site-packages (1.3.2)\n",
      "Requirement already satisfied: openpyxl in c:\\new folder\\python311\\lib\\site-packages (3.1.5)\n",
      "Requirement already satisfied: python-dateutil>=2.8.1 in c:\\new folder\\python311\\lib\\site-packages (from pandas) (2.8.2)\n",
      "Requirement already satisfied: pytz>=2020.1 in c:\\new folder\\python311\\lib\\site-packages (from pandas) (2023.3.post1)\n",
      "Requirement already satisfied: numpy>=1.21.0 in c:\\new folder\\python311\\lib\\site-packages (from pandas) (1.26.4)\n",
      "Requirement already satisfied: scipy>=1.6.0 in c:\\new folder\\python311\\lib\\site-packages (from scikit-learn) (1.11.3)\n",
      "Requirement already satisfied: threadpoolctl>=3.1.0 in c:\\new folder\\python311\\lib\\site-packages (from scikit-learn) (3.2.0)\n",
      "Requirement already satisfied: et-xmlfile in c:\\new folder\\python311\\lib\\site-packages (from openpyxl) (2.0.0)\n",
      "Requirement already satisfied: six>=1.5 in c:\\new folder\\python311\\lib\\site-packages (from python-dateutil>=2.8.1->pandas) (1.16.0)\n",
      "Using cached scikit_learn-1.6.1-cp311-cp311-win_amd64.whl (11.1 MB)\n",
      "Installing collected packages: scikit-learn\n",
      "Successfully installed scikit-learn-1.6.1\n",
      "Note: you may need to restart the kernel to use updated packages.\n"
     ]
    },
    {
     "name": "stderr",
     "output_type": "stream",
     "text": [
      "\n",
      "[notice] A new release of pip is available: 25.0.1 -> 25.1.1\n",
      "[notice] To update, run: python.exe -m pip install --upgrade pip\n"
     ]
    }
   ],
   "source": [
    "pip install pandas scikit-learn joblib openpyxl\n"
   ]
  },
  {
   "cell_type": "code",
   "execution_count": 5,
   "id": "099f5d21",
   "metadata": {},
   "outputs": [
    {
     "name": "stdout",
     "output_type": "stream",
     "text": [
      "\n",
      "Training Performance (Random Forest):\n",
      "R² Score: 0.9999385978554158\n",
      "MAE: 109.47370059569099\n",
      "MSE: 28532.52004992278\n"
     ]
    }
   ],
   "source": [
    "# Train predictions and performance\n",
    "y_train_pred_rf = rf_model.predict(X_train)\n",
    "print(\"\\nTraining Performance (Random Forest):\")\n",
    "print(\"R² Score:\", r2_score(y_train, y_train_pred_rf))\n",
    "print(\"MAE:\", mean_absolute_error(y_train, y_train_pred_rf))\n",
    "print(\"MSE:\", mean_squared_error(y_train, y_train_pred_rf))\n"
   ]
  },
  {
   "cell_type": "code",
   "execution_count": 1,
   "id": "dd187555",
   "metadata": {},
   "outputs": [
    {
     "name": "stdout",
     "output_type": "stream",
     "text": [
      "R2 Score: -0.0362\n",
      "MSE: 464525855.96\n",
      "✅ Model saved as 'month_year_sales_model.pkl'\n"
     ]
    }
   ],
   "source": [
    "import pandas as pd\n",
    "from sklearn.model_selection import train_test_split\n",
    "from sklearn.ensemble import RandomForestRegressor\n",
    "from sklearn.metrics import r2_score, mean_squared_error\n",
    "import joblib\n",
    "\n",
    "# Load the new dataset with Month and Year\n",
    "df = pd.read_excel(\"final_professional_sales_dataset_with_month_year.xlsx\")\n",
    "\n",
    "# Define features and target\n",
    "X = df[[\"Month\", \"Year\"]]  # only Month and Year\n",
    "y = df[\"Sales (₹)\"]        # target\n",
    "\n",
    "# Split into training and testing sets\n",
    "X_train, X_test, y_train, y_test = train_test_split(X, y, test_size=0.2, random_state=42)\n",
    "\n",
    "# Train a Random Forest Regressor\n",
    "model = RandomForestRegressor(n_estimators=100, random_state=42)\n",
    "model.fit(X_train, y_train)\n",
    "\n",
    "# Evaluate model\n",
    "y_pred = model.predict(X_test)\n",
    "print(f\"R2 Score: {r2_score(y_test, y_pred):.4f}\")\n",
    "print(f\"MSE: {mean_squared_error(y_test, y_pred):.2f}\")\n",
    "\n",
    "# Save the trained model\n",
    "joblib.dump(model, \"month_year_sales_model.pkl\")\n",
    "print(\"✅ Model saved as 'month_year_sales_model.pkl'\")\n"
   ]
  },
  {
   "cell_type": "code",
   "execution_count": 2,
   "id": "e891b414",
   "metadata": {},
   "outputs": [
    {
     "name": "stdout",
     "output_type": "stream",
     "text": [
      "R2 Score: -0.1124\n",
      "MSE: 760.07\n",
      "✅ Model and encoders saved successfully.\n"
     ]
    }
   ],
   "source": [
    "import pandas as pd\n",
    "from sklearn.model_selection import train_test_split\n",
    "from sklearn.ensemble import RandomForestRegressor\n",
    "from sklearn.preprocessing import LabelEncoder\n",
    "from sklearn.metrics import r2_score, mean_squared_error\n",
    "import joblib\n",
    "\n",
    "# Load your updated dataset\n",
    "df = pd.read_excel(\"final_professional_sales_dataset_with_month_year.xlsx\")\n",
    "\n",
    "# Encode categorical variables\n",
    "label_encoders = {}\n",
    "categorical_columns = ['State', 'District', 'Category']\n",
    "\n",
    "for col in categorical_columns:\n",
    "    le = LabelEncoder()\n",
    "    df[col] = le.fit_transform(df[col])\n",
    "    label_encoders[col] = le\n",
    "\n",
    "# Define features and target\n",
    "X = df[['State', 'District', 'Category', 'Month', 'Year']]\n",
    "y = df['Quantity Sold']  # Predicting quantity sold\n",
    "\n",
    "# Train/test split\n",
    "X_train, X_test, y_train, y_test = train_test_split(X, y, test_size=0.2, random_state=42)\n",
    "\n",
    "# Train model\n",
    "model = RandomForestRegressor(n_estimators=100, random_state=42)\n",
    "model.fit(X_train, y_train)\n",
    "\n",
    "# Evaluate\n",
    "y_pred = model.predict(X_test)\n",
    "print(f\"R2 Score: {r2_score(y_test, y_pred):.4f}\")\n",
    "print(f\"MSE: {mean_squared_error(y_test, y_pred):.2f}\")\n",
    "\n",
    "# Save the model and encoders\n",
    "joblib.dump(model, \"sales_prediction_model.pkl\")\n",
    "joblib.dump(label_encoders, \"label_encoders.pkl\")\n",
    "print(\"✅ Model and encoders saved successfully.\")\n"
   ]
  }
 ],
 "metadata": {
  "kernelspec": {
   "display_name": "Python 3",
   "language": "python",
   "name": "python3"
  },
  "language_info": {
   "codemirror_mode": {
    "name": "ipython",
    "version": 3
   },
   "file_extension": ".py",
   "mimetype": "text/x-python",
   "name": "python",
   "nbconvert_exporter": "python",
   "pygments_lexer": "ipython3",
   "version": "3.11.0"
  }
 },
 "nbformat": 4,
 "nbformat_minor": 5
}
