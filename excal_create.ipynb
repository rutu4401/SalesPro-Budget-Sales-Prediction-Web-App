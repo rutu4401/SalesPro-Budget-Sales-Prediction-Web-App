{
 "cells": [
  {
   "cell_type": "code",
   "execution_count": 12,
   "id": "327352ca",
   "metadata": {},
   "outputs": [
    {
     "name": "stdout",
     "output_type": "stream",
     "text": [
      "✅ Big dataset created with proper calculations and saved as 'professional_sales_dataset.xlsx'\n"
     ]
    }
   ],
   "source": [
    "import pandas as pd\n",
    "import random\n",
    "\n",
    "# Load the Excel file\n",
    "df = pd.read_excel('Indian-States-and-Districts-List.xlsx', header=1)\n",
    "df.columns = ['State', 'District', 'Blank']\n",
    "df = df[['State', 'District']].dropna()\n",
    "\n",
    "# Define your product categories\n",
    "categories = [\n",
    "    'Health and beauty', 'Electronic accessories', 'Home and lifestyle',\n",
    "    'Fashion accessories', 'Food and beverages', 'Sports and travel'\n",
    "]\n",
    "\n",
    "# Generate 10,000+ rows (by repeating district records)\n",
    "data = []\n",
    "for _ in range(50):  # Repeat to make dataset bigger\n",
    "    for _, row in df.iterrows():\n",
    "        state = row['State']\n",
    "        district = row['District']\n",
    "        category = random.choice(categories)\n",
    "\n",
    "        unit_price = random.uniform(100, 1000)\n",
    "        quantity = random.randint(10, 100)\n",
    "        sales = round(unit_price * quantity, 2)\n",
    "\n",
    "        profit_margin = random.uniform(0.1, 0.5)\n",
    "        profit = round(sales * profit_margin, 2)\n",
    "\n",
    "        data.append({\n",
    "            'State': state,\n",
    "            'District': district,\n",
    "            'Category': category,\n",
    "            'Unit Price (₹)': round(unit_price, 2),\n",
    "            'Quantity Sold': quantity,\n",
    "            'Sales (₹)': sales,\n",
    "            'Profit Margin': round(profit_margin, 2),\n",
    "            'Profit (₹)': profit\n",
    "        })\n",
    "\n",
    "# Convert to DataFrame\n",
    "dataset_df = pd.DataFrame(data)\n",
    "\n",
    "# Save to Excel\n",
    "dataset_df.to_excel('professional_sales_dataset.xlsx', index=False)\n",
    "\n",
    "print(\"✅ Big dataset created with proper calculations and saved as 'professional_sales_dataset.xlsx'\")\n"
   ]
  },
  {
   "cell_type": "code",
   "execution_count": 9,
   "id": "9e0b7045",
   "metadata": {},
   "outputs": [
    {
     "name": "stdout",
     "output_type": "stream",
     "text": [
      "Actual column names in your Excel file:\n",
      "['For Update List Visit: ', 'Unnamed: 1', 'Unnamed: 2']\n"
     ]
    }
   ],
   "source": [
    "import pandas as pd\n",
    "\n",
    "# Load your Excel file\n",
    "df_states = pd.read_excel('Indian-States-and-Districts-List.xlsx')\n",
    "\n",
    "# Print actual column names to see what they really are\n",
    "print(\"Actual column names in your Excel file:\")\n",
    "print(df_states.columns.tolist())\n"
   ]
  },
  {
   "cell_type": "code",
   "execution_count": 5,
   "id": "6741d115",
   "metadata": {},
   "outputs": [
    {
     "name": "stdout",
     "output_type": "stream",
     "text": [
      "Collecting openpyxl\n",
      "  Downloading openpyxl-3.1.5-py2.py3-none-any.whl.metadata (2.5 kB)\n",
      "Collecting et-xmlfile (from openpyxl)\n",
      "  Downloading et_xmlfile-2.0.0-py3-none-any.whl.metadata (2.7 kB)\n",
      "Downloading openpyxl-3.1.5-py2.py3-none-any.whl (250 kB)\n",
      "Downloading et_xmlfile-2.0.0-py3-none-any.whl (18 kB)\n",
      "Installing collected packages: et-xmlfile, openpyxl\n",
      "Successfully installed et-xmlfile-2.0.0 openpyxl-3.1.5\n",
      "Note: you may need to restart the kernel to use updated packages.\n"
     ]
    },
    {
     "name": "stderr",
     "output_type": "stream",
     "text": [
      "\n",
      "[notice] A new release of pip is available: 25.0.1 -> 25.1.1\n",
      "[notice] To update, run: python.exe -m pip install --upgrade pip\n"
     ]
    }
   ],
   "source": [
    "pip install openpyxl\n"
   ]
  },
  {
   "cell_type": "code",
   "execution_count": 1,
   "id": "f8a77c14",
   "metadata": {},
   "outputs": [],
   "source": [
    "import pandas as pd\n",
    "import numpy as np\n",
    "\n",
    "# Load your dataset\n",
    "df = pd.read_excel('professional_sales_dataset.xlsx')\n",
    "\n",
    "# Generate month-year pairs\n",
    "years = np.arange(2001, 2027)  # 2001 to 2026 inclusive\n",
    "months = np.arange(1, 13)      # 1 to 12\n",
    "month_year_pairs = [(m, y) for y in years for m in months]\n",
    "\n",
    "# Repeat to match DataFrame length\n",
    "repeated_pairs = (month_year_pairs * ((len(df) // len(month_year_pairs)) + 1))[:len(df)]\n",
    "months_final, years_final = zip(*repeated_pairs)\n",
    "\n",
    "# Add to DataFrame\n",
    "df['Month'] = months_final\n",
    "df['Year'] = years_final\n",
    "\n",
    "# Optionally save\n",
    "df.to_excel('updated_sales_dataset_with_month_year.xlsx', index=False)\n"
   ]
  },
  {
   "cell_type": "code",
   "execution_count": 3,
   "id": "c29d508f",
   "metadata": {},
   "outputs": [
    {
     "name": "stdout",
     "output_type": "stream",
     "text": [
      "✅ Dataset saved as 'final_professional_sales_dataset_with_month_year.xlsx'\n"
     ]
    }
   ],
   "source": [
    "import pandas as pd\n",
    "import numpy as np\n",
    "\n",
    "# Load your uploaded Excel file\n",
    "df = pd.read_excel(\"professional_sales_dataset.xlsx\")\n",
    "\n",
    "# Get all unique states\n",
    "unique_states = df[\"State\"].unique()\n",
    "\n",
    "# Define Month-Year combinations: 12 months × 26 years = 312\n",
    "years = list(range(2001, 2027))\n",
    "months = list(range(1, 13))\n",
    "month_year_pairs = [(month, year) for year in years for month in months]\n",
    "\n",
    "# Create balanced dataset per state\n",
    "balanced_rows = []\n",
    "\n",
    "for state in unique_states:\n",
    "    # Filter data for the current state\n",
    "    state_data = df[df[\"State\"] == state].reset_index(drop=True)\n",
    "\n",
    "    # Replicate if not enough rows to reach 312\n",
    "    if len(state_data) < 312:\n",
    "        reps = int(np.ceil(312 / len(state_data)))\n",
    "        state_data = pd.concat([state_data] * reps, ignore_index=True)\n",
    "\n",
    "    # Trim to exactly 312 rows\n",
    "    state_data = state_data.iloc[:312].copy()\n",
    "\n",
    "    # Add Month and Year\n",
    "    state_data[\"Month\"] = [m for m, y in month_year_pairs]\n",
    "    state_data[\"Year\"] = [y for m, y in month_year_pairs]\n",
    "\n",
    "    # Append to final list\n",
    "    balanced_rows.append(state_data)\n",
    "\n",
    "# Combine all states' data\n",
    "final_df = pd.concat(balanced_rows, ignore_index=True)\n",
    "\n",
    "# Save to Excel\n",
    "final_df.to_excel(\"final_professional_sales_dataset_with_month_year.xlsx\", index=False)\n",
    "print(\"✅ Dataset saved as 'final_professional_sales_dataset_with_month_year.xlsx'\")\n"
   ]
  }
 ],
 "metadata": {
  "kernelspec": {
   "display_name": "Python 3",
   "language": "python",
   "name": "python3"
  },
  "language_info": {
   "codemirror_mode": {
    "name": "ipython",
    "version": 3
   },
   "file_extension": ".py",
   "mimetype": "text/x-python",
   "name": "python",
   "nbconvert_exporter": "python",
   "pygments_lexer": "ipython3",
   "version": "3.11.0"
  }
 },
 "nbformat": 4,
 "nbformat_minor": 5
}
